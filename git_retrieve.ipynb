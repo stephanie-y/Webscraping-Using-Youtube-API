{
 "cells": [
  {
   "cell_type": "code",
   "execution_count": 1,
   "metadata": {},
   "outputs": [],
   "source": [
    "from googleapiclient.discovery import build\n",
    "\n",
    "import pandas as pd\n",
    "\n",
    "# For API key stored as an environmentbal variable\n",
    "import os\n",
    "#For Timer\n",
    "import time\n",
    "\n",
    "# set api key from local environment\n",
    "API_KEY = os.environ.get('API_KEY')\n",
    "# set API service vars\n",
    "API_SERVICE_NAME = 'youtube'\n",
    "API_VERSION = 'v3'"
   ]
  },
  {
   "cell_type": "markdown",
   "metadata": {},
   "source": [
    "# Retrieving ID & Video Count of a YouTube Channel Using Only a Username\n",
    "\n",
    "A channel's id can usually be found in the link: https://www.youtube.com/channel/*channel_id*"
   ]
  },
  {
   "cell_type": "code",
   "execution_count": 2,
   "metadata": {},
   "outputs": [],
   "source": [
    "def get_channel_id(username):\n",
    "\n",
    "    youtube = build(API_SERVICE_NAME, API_VERSION, developerKey=API_KEY)\n",
    "    request = youtube.channels().list(\n",
    "            part='statistics',\n",
    "            forUsername=username).execute()\n",
    "    \n",
    "    video_count = request['items'][0]['statistics']['videoCount']\n",
    "    ch_id = request['items'][0]['id']\n",
    "    \n",
    "    print(f'channel id: {ch_id}')\n",
    "    print(f'video count: {video_count}')\n",
    "    \n",
    "    return ch_id"
   ]
  },
  {
   "cell_type": "code",
   "execution_count": 4,
   "metadata": {},
   "outputs": [
    {
     "name": "stdout",
     "output_type": "stream",
     "text": [
      "channel id: UC7c3Kb6jYCRj4JOHHZTxKsQ\n",
      "video count: 521\n"
     ]
    },
    {
     "data": {
      "text/plain": [
       "'UC7c3Kb6jYCRj4JOHHZTxKsQ'"
      ]
     },
     "execution_count": 4,
     "metadata": {},
     "output_type": "execute_result"
    }
   ],
   "source": [
    "# Retrieving the channel id for YouTube username github\n",
    "github_channel_id = get_channel_id('github')\n",
    "github_channel_id"
   ]
  },
  {
   "cell_type": "markdown",
   "metadata": {},
   "source": [
    "#### channels( ) method returns API Response containing a channel's id as well as basic channel statistics."
   ]
  },
  {
   "cell_type": "code",
   "execution_count": 58,
   "metadata": {},
   "outputs": [
    {
     "data": {
      "text/plain": [
       "{'kind': 'youtube#channelListResponse',\n",
       " 'etag': 'filnYVaAZhIrYSjZJ3vQfj0S21w',\n",
       " 'pageInfo': {'totalResults': 1, 'resultsPerPage': 5},\n",
       " 'items': [{'kind': 'youtube#channel',\n",
       "   'etag': 'ecvLoOisQDkuOc4FLqVJy97W504',\n",
       "   'id': 'UC7c3Kb6jYCRj4JOHHZTxKsQ',\n",
       "   'statistics': {'viewCount': '4593111',\n",
       "    'commentCount': '0',\n",
       "    'subscriberCount': '125000',\n",
       "    'hiddenSubscriberCount': False,\n",
       "    'videoCount': '521'}}]}"
      ]
     },
     "execution_count": 58,
     "metadata": {},
     "output_type": "execute_result"
    }
   ],
   "source": [
    "# Create the service object using the build function\n",
    "youtube = build(API_SERVICE_NAME, API_VERSION, developerKey=API_KEY)\n",
    "\n",
    "username = 'github'\n",
    "request = youtube.channels().list(\n",
    "            part='statistics',\n",
    "            forUsername=username).execute()\n",
    "request"
   ]
  },
  {
   "cell_type": "markdown",
   "metadata": {},
   "source": [
    "# Get count of videos uploaded by a channel using its channel id"
   ]
  },
  {
   "cell_type": "markdown",
   "metadata": {},
   "source": [
    "#### Service response is the same as the one above, however, this one lets you use a channel id instead. Depending on which information you have on hand, I wanted methods that allowed for both.\n",
    "\n",
    "I included the two methods to print the number of videos in a channel so I can anticipate how long it will take to scrape all of the desired video information."
   ]
  },
  {
   "cell_type": "code",
   "execution_count": 9,
   "metadata": {},
   "outputs": [],
   "source": [
    "def get_channel_stats(channel_id):\n",
    "    youtube = build(API_SERVICE_NAME, API_VERSION, developerKey=API_KEY)\n",
    "    request = youtube.channels().list(part = 'statistics',\n",
    "                                      id = channel_id).execute()\n",
    "    \n",
    "    video_count = request['items'][0]['statistics']['videoCount']\n",
    "    ch_id = request['items'][0]['id']\n",
    "        \n",
    "    print(f'channel id: {ch_id}')\n",
    "    print(f'video count: {video_count}')\n",
    "    return request"
   ]
  },
  {
   "cell_type": "code",
   "execution_count": 10,
   "metadata": {},
   "outputs": [
    {
     "name": "stdout",
     "output_type": "stream",
     "text": [
      "channel id: UC7c3Kb6jYCRj4JOHHZTxKsQ\n",
      "video count: 521\n"
     ]
    },
    {
     "data": {
      "text/plain": [
       "{'kind': 'youtube#channelListResponse',\n",
       " 'etag': 'PJ_sSp-rLP5VHmfB1Efw0K6Ol84',\n",
       " 'pageInfo': {'totalResults': 1, 'resultsPerPage': 1},\n",
       " 'items': [{'kind': 'youtube#channel',\n",
       "   'etag': 'iJR7BSR_HUIpO6sYOBjwrvcJwyw',\n",
       "   'id': 'UC7c3Kb6jYCRj4JOHHZTxKsQ',\n",
       "   'statistics': {'viewCount': '4596373',\n",
       "    'commentCount': '0',\n",
       "    'subscriberCount': '125000',\n",
       "    'hiddenSubscriberCount': False,\n",
       "    'videoCount': '521'}}]}"
      ]
     },
     "execution_count": 10,
     "metadata": {},
     "output_type": "execute_result"
    }
   ],
   "source": [
    "# Reponse is the same as get_channel_id()\n",
    "channel_stats_response = get_channel_stats(github_channel_id)\n",
    "channel_stats_response"
   ]
  },
  {
   "cell_type": "markdown",
   "metadata": {},
   "source": [
    "# Get a list of json responses containing video information for each uploaded video using a channel id\n",
    "Step 1) Retrieves the __uploads playlist id__ of a channel using the __channel id__. \\\n",
    "Step 2) Uses __nextPageToken__ from the response to iterate through each page of uploads and saves each page response to a list. On the last page, no nextPageToken will be available and will break out of the loop."
   ]
  },
  {
   "cell_type": "code",
   "execution_count": 18,
   "metadata": {},
   "outputs": [],
   "source": [
    "def get_channel_videos(channel_id):\n",
    "    time_start = time.perf_counter()\n",
    "    \n",
    "    # Step 1\n",
    "    youtube = build(API_SERVICE_NAME, API_VERSION, developerKey=API_KEY)\n",
    "    \n",
    "    # Get number of videos in uploads playlist\n",
    "    vid_response = youtube.channels().list(part = 'statistics',\n",
    "                                      id = channel_id).execute()\n",
    "    vid_count = vid_response['items'][0]['statistics']['videoCount']\n",
    "    \n",
    "    # Get upload playlist id\n",
    "    response = youtube.channels().list(part = 'contentDetails',\n",
    "                                      id = channel_id).execute()\n",
    "    playlist_id = response['items'][0]['contentDetails']['relatedPlaylists']['uploads']\n",
    "\n",
    "    # Step 2\n",
    "    \n",
    "    videos_result = []\n",
    "    nextPageToken = None\n",
    "    while 1:\n",
    "        playlist_response = youtube.playlistItems().list(playlistId = playlist_id,\n",
    "                                                        part = 'snippet',\n",
    "                                                        maxResults = 50,\n",
    "                                                        pageToken = nextPageToken).execute()\n",
    "        \n",
    "        videos_result.extend(playlist_response['items'])\n",
    "        nextPageToken = playlist_response.get('nextPageToken')\n",
    "        \n",
    "        if nextPageToken is None:\n",
    "            break\n",
    "    \n",
    "    time_end = time.perf_counter()\n",
    "    print(f'Finished in {time_end-time_start} seconds')\n",
    "    \n",
    "    return videos_result"
   ]
  },
  {
   "cell_type": "markdown",
   "metadata": {},
   "source": [
    "#### A sample entry of the result:\n",
    "As you can see, there's a lot of information that can be extracted, but today I'm only interested in __title__, __publishedAt__, __description__, and __channelTitle__."
   ]
  },
  {
   "cell_type": "code",
   "execution_count": 17,
   "metadata": {},
   "outputs": [
    {
     "name": "stdout",
     "output_type": "stream",
     "text": [
      "Finished in 11.283333239000001 seconds\n"
     ]
    },
    {
     "data": {
      "text/plain": [
       "{'kind': 'youtube#playlistItem',\n",
       " 'etag': 'JBNaTX96bihgYSpy7ILZCx7y1y8',\n",
       " 'id': 'VVU3YzNLYjZqWUNSajRKT0hIWlR4S3NRLk51b25ENUcyOEw4',\n",
       " 'snippet': {'publishedAt': '2020-05-08T17:46:48Z',\n",
       "  'channelId': 'UC7c3Kb6jYCRj4JOHHZTxKsQ',\n",
       "  'title': 'Closing remarks - GitHub Satellite 2020',\n",
       "  'description': 'Presented by Erica Brescia, COO, GitHub\\n\\nGitHub Satellite: A community connected by code\\n\\nOn May 6th, we threw a free virtual event featuring developers working together on the world’s software, announcements from the GitHub team, and inspiring performances by artists who code.\\n\\nMore information: https://githubsatellite.com\\nSchedule: https://githubsatellite.com/schedule/',\n",
       "  'thumbnails': {'default': {'url': 'https://i.ytimg.com/vi/NuonD5G28L8/default.jpg',\n",
       "    'width': 120,\n",
       "    'height': 90},\n",
       "   'medium': {'url': 'https://i.ytimg.com/vi/NuonD5G28L8/mqdefault.jpg',\n",
       "    'width': 320,\n",
       "    'height': 180},\n",
       "   'high': {'url': 'https://i.ytimg.com/vi/NuonD5G28L8/hqdefault.jpg',\n",
       "    'width': 480,\n",
       "    'height': 360},\n",
       "   'standard': {'url': 'https://i.ytimg.com/vi/NuonD5G28L8/sddefault.jpg',\n",
       "    'width': 640,\n",
       "    'height': 480},\n",
       "   'maxres': {'url': 'https://i.ytimg.com/vi/NuonD5G28L8/maxresdefault.jpg',\n",
       "    'width': 1280,\n",
       "    'height': 720}},\n",
       "  'channelTitle': 'GitHub',\n",
       "  'playlistId': 'UU7c3Kb6jYCRj4JOHHZTxKsQ',\n",
       "  'position': 0,\n",
       "  'resourceId': {'kind': 'youtube#video', 'videoId': 'NuonD5G28L8'}}}"
      ]
     },
     "execution_count": 17,
     "metadata": {},
     "output_type": "execute_result"
    }
   ],
   "source": [
    "github_videos_json = get_channel_videos(github_channel_id)\n",
    "github_videos_json[0]"
   ]
  },
  {
   "cell_type": "code",
   "execution_count": 15,
   "metadata": {},
   "outputs": [
    {
     "data": {
      "text/plain": [
       "521"
      ]
     },
     "execution_count": 15,
     "metadata": {},
     "output_type": "execute_result"
    }
   ],
   "source": [
    "# Just making sure we were able to grab all of the videos by checking how long the resulting list is.\n",
    "len(github_videos_json)"
   ]
  },
  {
   "cell_type": "markdown",
   "metadata": {},
   "source": [
    "# Extract video title, date, and video id for each video from resulting json and convert it to a dataframe.\n",
    "I decided to keep this method separate from __get_channel_videos( )__ for easier readbility but this method can certainly be combined with it.\\\n",
    "I've specified the information I want from each video but you can also get the video description as well as a link to the thumbnail."
   ]
  },
  {
   "cell_type": "code",
   "execution_count": 20,
   "metadata": {},
   "outputs": [],
   "source": [
    "def vid_info_df(result_json):\n",
    "    results = []\n",
    "    \n",
    "    for video in result_json:\n",
    "        date = video['snippet']['publishedAt'][:10]\n",
    "        vid_id = video['snippet']['resourceId']['videoId']\n",
    "        title = video['snippet']['title']\n",
    "        #description = video['snippet']['description']\n",
    "        #default_thumbnail = video['snippet']['thumbnails']['maxres']['url']\n",
    "        \n",
    "        data = {'Date' : date,\n",
    "                'Video ID' : vid_id,\n",
    "                'Title' : title}\n",
    "                #'Description' : description,\n",
    "                #'Thumbnail URL' : default_thumbnail\n",
    "                \n",
    "        results.append(data)\n",
    "    \n",
    "    df = pd.DataFrame(results)\n",
    "    return df"
   ]
  },
  {
   "cell_type": "code",
   "execution_count": 21,
   "metadata": {},
   "outputs": [
    {
     "data": {
      "text/html": [
       "<div>\n",
       "<style scoped>\n",
       "    .dataframe tbody tr th:only-of-type {\n",
       "        vertical-align: middle;\n",
       "    }\n",
       "\n",
       "    .dataframe tbody tr th {\n",
       "        vertical-align: top;\n",
       "    }\n",
       "\n",
       "    .dataframe thead th {\n",
       "        text-align: right;\n",
       "    }\n",
       "</style>\n",
       "<table border=\"1\" class=\"dataframe\">\n",
       "  <thead>\n",
       "    <tr style=\"text-align: right;\">\n",
       "      <th></th>\n",
       "      <th>Date</th>\n",
       "      <th>Video ID</th>\n",
       "      <th>Title</th>\n",
       "    </tr>\n",
       "  </thead>\n",
       "  <tbody>\n",
       "    <tr>\n",
       "      <th>0</th>\n",
       "      <td>2020-05-08</td>\n",
       "      <td>NuonD5G28L8</td>\n",
       "      <td>Closing remarks - GitHub Satellite 2020</td>\n",
       "    </tr>\n",
       "    <tr>\n",
       "      <th>1</th>\n",
       "      <td>2020-05-08</td>\n",
       "      <td>pYzfGaLTqC0</td>\n",
       "      <td>Finding security vulnerabilities in JavaScript...</td>\n",
       "    </tr>\n",
       "    <tr>\n",
       "      <th>2</th>\n",
       "      <td>2020-05-08</td>\n",
       "      <td>nvCd0Ee4FgE</td>\n",
       "      <td>Finding security vulnerabilities in Java with ...</td>\n",
       "    </tr>\n",
       "    <tr>\n",
       "      <th>3</th>\n",
       "      <td>2020-05-08</td>\n",
       "      <td>PYsZeFTdJ50</td>\n",
       "      <td>Continuous delivery with GitHub Actions - GitH...</td>\n",
       "    </tr>\n",
       "    <tr>\n",
       "      <th>4</th>\n",
       "      <td>2020-05-08</td>\n",
       "      <td>cyh8DU2QPzg</td>\n",
       "      <td>Continuous integration with GitHub Actions - G...</td>\n",
       "    </tr>\n",
       "    <tr>\n",
       "      <th>...</th>\n",
       "      <td>...</td>\n",
       "      <td>...</td>\n",
       "      <td>...</td>\n",
       "    </tr>\n",
       "    <tr>\n",
       "      <th>516</th>\n",
       "      <td>2013-05-23</td>\n",
       "      <td>nmSFRKfFMak</td>\n",
       "      <td>Git Merge • ShowInGitHub XCode Plugin (Lars Sc...</td>\n",
       "    </tr>\n",
       "    <tr>\n",
       "      <th>517</th>\n",
       "      <td>2013-05-23</td>\n",
       "      <td>XP4CxUkBPSQ</td>\n",
       "      <td>Git Merge • Google Summer of Code (Git Core Team)</td>\n",
       "    </tr>\n",
       "    <tr>\n",
       "      <th>518</th>\n",
       "      <td>2013-05-05</td>\n",
       "      <td>uZqXc1E91mE</td>\n",
       "      <td>Passion Projects (Live) 2: Heather Arthur (Mac...</td>\n",
       "    </tr>\n",
       "    <tr>\n",
       "      <th>519</th>\n",
       "      <td>2013-03-28</td>\n",
       "      <td>rMYUGwQGLn8</td>\n",
       "      <td>Passion Projects (Live) 1: Rachel Myers (Rails...</td>\n",
       "    </tr>\n",
       "    <tr>\n",
       "      <th>520</th>\n",
       "      <td>2013-03-20</td>\n",
       "      <td>bgmwnfYtR5c</td>\n",
       "      <td>GitHub OctoTales • jQuery</td>\n",
       "    </tr>\n",
       "  </tbody>\n",
       "</table>\n",
       "<p>521 rows × 3 columns</p>\n",
       "</div>"
      ],
      "text/plain": [
       "           Date     Video ID  \\\n",
       "0    2020-05-08  NuonD5G28L8   \n",
       "1    2020-05-08  pYzfGaLTqC0   \n",
       "2    2020-05-08  nvCd0Ee4FgE   \n",
       "3    2020-05-08  PYsZeFTdJ50   \n",
       "4    2020-05-08  cyh8DU2QPzg   \n",
       "..          ...          ...   \n",
       "516  2013-05-23  nmSFRKfFMak   \n",
       "517  2013-05-23  XP4CxUkBPSQ   \n",
       "518  2013-05-05  uZqXc1E91mE   \n",
       "519  2013-03-28  rMYUGwQGLn8   \n",
       "520  2013-03-20  bgmwnfYtR5c   \n",
       "\n",
       "                                                 Title  \n",
       "0              Closing remarks - GitHub Satellite 2020  \n",
       "1    Finding security vulnerabilities in JavaScript...  \n",
       "2    Finding security vulnerabilities in Java with ...  \n",
       "3    Continuous delivery with GitHub Actions - GitH...  \n",
       "4    Continuous integration with GitHub Actions - G...  \n",
       "..                                                 ...  \n",
       "516  Git Merge • ShowInGitHub XCode Plugin (Lars Sc...  \n",
       "517  Git Merge • Google Summer of Code (Git Core Team)  \n",
       "518  Passion Projects (Live) 2: Heather Arthur (Mac...  \n",
       "519  Passion Projects (Live) 1: Rachel Myers (Rails...  \n",
       "520                          GitHub OctoTales • jQuery  \n",
       "\n",
       "[521 rows x 3 columns]"
      ]
     },
     "execution_count": 21,
     "metadata": {},
     "output_type": "execute_result"
    }
   ],
   "source": [
    "github_df = vid_info_df(github_videos_json)\n",
    "github_df"
   ]
  },
  {
   "cell_type": "markdown",
   "metadata": {},
   "source": [
    "#### This df can then be saved as a csv or excel file!"
   ]
  },
  {
   "cell_type": "code",
   "execution_count": 22,
   "metadata": {},
   "outputs": [],
   "source": [
    "github_df.to_csv('file_name.csv', index = False, header = True)"
   ]
  }
 ],
 "metadata": {
  "kernelspec": {
   "display_name": "comment-env",
   "language": "python",
   "name": "comment-env"
  },
  "language_info": {
   "codemirror_mode": {
    "name": "ipython",
    "version": 3
   },
   "file_extension": ".py",
   "mimetype": "text/x-python",
   "name": "python",
   "nbconvert_exporter": "python",
   "pygments_lexer": "ipython3",
   "version": "3.8.2"
  }
 },
 "nbformat": 4,
 "nbformat_minor": 4
}
