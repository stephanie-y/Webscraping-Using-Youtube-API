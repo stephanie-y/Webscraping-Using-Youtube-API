{
 "cells": [
  {
   "cell_type": "code",
   "execution_count": 30,
   "metadata": {},
   "outputs": [],
   "source": [
    "import pandas as pd\n",
    "\n",
    "from googleapiclient.discovery import build\n",
    "\n",
    "API_KEY = os.environ.get('API_KEY')"
   ]
  },
  {
   "cell_type": "markdown",
   "metadata": {},
   "source": [
    "# Getting statistics of YouTube Videos"
   ]
  },
  {
   "cell_type": "markdown",
   "metadata": {},
   "source": [
    "We will be using Google's YouTube v3 API to scrape the video statistics of each video uploaded by GitHub's YouTube \n",
    "channel.\\\n",
    "\n",
    "To get the video id of each video uploaded by a channel, please refer to my GitHub: https://bit.ly/3fG7FP8 \\\n",
    "Which shows you the process of getting information on each video uploaded by a channel."
   ]
  },
  {
   "cell_type": "markdown",
   "metadata": {},
   "source": [
    "First we'll read in our csv file into a DataFrame and have a preview our data:\\\n",
    "The __head( )__ method will give us our first 5 entries by default, but you can pass in any value."
   ]
  },
  {
   "cell_type": "code",
   "execution_count": 8,
   "metadata": {
    "scrolled": true
   },
   "outputs": [
    {
     "data": {
      "text/html": [
       "<div>\n",
       "<style scoped>\n",
       "    .dataframe tbody tr th:only-of-type {\n",
       "        vertical-align: middle;\n",
       "    }\n",
       "\n",
       "    .dataframe tbody tr th {\n",
       "        vertical-align: top;\n",
       "    }\n",
       "\n",
       "    .dataframe thead th {\n",
       "        text-align: right;\n",
       "    }\n",
       "</style>\n",
       "<table border=\"1\" class=\"dataframe\">\n",
       "  <thead>\n",
       "    <tr style=\"text-align: right;\">\n",
       "      <th></th>\n",
       "      <th>Date</th>\n",
       "      <th>Video ID</th>\n",
       "      <th>Title</th>\n",
       "    </tr>\n",
       "  </thead>\n",
       "  <tbody>\n",
       "    <tr>\n",
       "      <th>0</th>\n",
       "      <td>2020-05-08</td>\n",
       "      <td>NuonD5G28L8</td>\n",
       "      <td>Closing remarks - GitHub Satellite 2020</td>\n",
       "    </tr>\n",
       "    <tr>\n",
       "      <th>1</th>\n",
       "      <td>2020-05-08</td>\n",
       "      <td>pYzfGaLTqC0</td>\n",
       "      <td>Finding security vulnerabilities in JavaScript...</td>\n",
       "    </tr>\n",
       "    <tr>\n",
       "      <th>2</th>\n",
       "      <td>2020-05-08</td>\n",
       "      <td>nvCd0Ee4FgE</td>\n",
       "      <td>Finding security vulnerabilities in Java with ...</td>\n",
       "    </tr>\n",
       "    <tr>\n",
       "      <th>3</th>\n",
       "      <td>2020-05-08</td>\n",
       "      <td>PYsZeFTdJ50</td>\n",
       "      <td>Continuous delivery with GitHub Actions - GitH...</td>\n",
       "    </tr>\n",
       "    <tr>\n",
       "      <th>4</th>\n",
       "      <td>2020-05-08</td>\n",
       "      <td>cyh8DU2QPzg</td>\n",
       "      <td>Continuous integration with GitHub Actions - G...</td>\n",
       "    </tr>\n",
       "    <tr>\n",
       "      <th>5</th>\n",
       "      <td>2020-05-08</td>\n",
       "      <td>wcxOJq9YemE</td>\n",
       "      <td>Building GitHub integrations with webhooks and...</td>\n",
       "    </tr>\n",
       "    <tr>\n",
       "      <th>6</th>\n",
       "      <td>2020-05-08</td>\n",
       "      <td>l3g41dGObJ4</td>\n",
       "      <td>Building automations with GitHub Apps and Grap...</td>\n",
       "    </tr>\n",
       "    <tr>\n",
       "      <th>7</th>\n",
       "      <td>2020-05-08</td>\n",
       "      <td>ECdxifljjE4</td>\n",
       "      <td>ART MACHINES: fostering digital creativity thr...</td>\n",
       "    </tr>\n",
       "    <tr>\n",
       "      <th>8</th>\n",
       "      <td>2020-05-07</td>\n",
       "      <td>dy2eYaNxaQc</td>\n",
       "      <td>How to get from idea to contribution in minute...</td>\n",
       "    </tr>\n",
       "    <tr>\n",
       "      <th>9</th>\n",
       "      <td>2020-05-08</td>\n",
       "      <td>U8NpT_myO9A</td>\n",
       "      <td>Algorithmic Positivity Symphony - GitHub Satel...</td>\n",
       "    </tr>\n",
       "  </tbody>\n",
       "</table>\n",
       "</div>"
      ],
      "text/plain": [
       "         Date     Video ID                                              Title\n",
       "0  2020-05-08  NuonD5G28L8            Closing remarks - GitHub Satellite 2020\n",
       "1  2020-05-08  pYzfGaLTqC0  Finding security vulnerabilities in JavaScript...\n",
       "2  2020-05-08  nvCd0Ee4FgE  Finding security vulnerabilities in Java with ...\n",
       "3  2020-05-08  PYsZeFTdJ50  Continuous delivery with GitHub Actions - GitH...\n",
       "4  2020-05-08  cyh8DU2QPzg  Continuous integration with GitHub Actions - G...\n",
       "5  2020-05-08  wcxOJq9YemE  Building GitHub integrations with webhooks and...\n",
       "6  2020-05-08  l3g41dGObJ4  Building automations with GitHub Apps and Grap...\n",
       "7  2020-05-08  ECdxifljjE4  ART MACHINES: fostering digital creativity thr...\n",
       "8  2020-05-07  dy2eYaNxaQc  How to get from idea to contribution in minute...\n",
       "9  2020-05-08  U8NpT_myO9A  Algorithmic Positivity Symphony - GitHub Satel..."
      ]
     },
     "execution_count": 8,
     "metadata": {},
     "output_type": "execute_result"
    }
   ],
   "source": [
    "df = pd.read_csv('videoids.csv')\n",
    "df.head(10)"
   ]
  },
  {
   "cell_type": "markdown",
   "metadata": {},
   "source": [
    "#### Grab the video IDs column and turn it into a list:"
   ]
  },
  {
   "cell_type": "code",
   "execution_count": 41,
   "metadata": {},
   "outputs": [
    {
     "name": "stdout",
     "output_type": "stream",
     "text": [
      "The length of vid_ids is: 521.\n",
      "Preview of list: ['NuonD5G28L8', 'pYzfGaLTqC0', 'nvCd0Ee4FgE', 'PYsZeFTdJ50', 'cyh8DU2QPzg', 'wcxOJq9YemE', 'l3g41dGObJ4', 'ECdxifljjE4', 'dy2eYaNxaQc', 'U8NpT_myO9A'].\n"
     ]
    }
   ],
   "source": [
    "vid_ids = df['Video ID'].to_list()\n",
    "print(f'The length of vid_ids is: {len(vid_ids)}.')\n",
    "print(f'Preview of list: {vid_ids[:10]}.')"
   ]
  },
  {
   "cell_type": "markdown",
   "metadata": {},
   "source": [
    "# Data Collection:\n"
   ]
  },
  {
   "cell_type": "markdown",
   "metadata": {},
   "source": [
    "#### We will be collecting the following data for each video: \n",
    "Video Title, the channel name, time and date published, video description, the amount of views the video has, both like and dislike counts, the amount of comments a video got, and the tags used for the video."
   ]
  },
  {
   "cell_type": "markdown",
   "metadata": {},
   "source": [
    "YouTube tags,also known as __video tags__, are important key phrases that help with video visibility when a certain topic is being searched.\n",
    "\n",
    "#### **Google's definition of tags:**\n",
    "*Tags are descriptive keywords you can add to your video to help viewers find your content. Your video’s title, thumbnail, and description are more important pieces of metadata for your video’s discovery. These main pieces of information help viewers decide which videos to watch.*\\\n",
    "\n",
    "You can see how important it is for a new/smaller channels to use the right tags in order to gain traction for their channel.\n",
    "\n",
    "#### Here is a function to scrape YouTube tags given to each video by the channel uploading it.\n",
    "If no tags were provided for a video, then we'll return N/A.\\"
   ]
  },
  {
   "cell_type": "code",
   "execution_count": 78,
   "metadata": {},
   "outputs": [],
   "source": [
    "def get_video_tags(vid_response):\n",
    "    tags = []\n",
    "    try:\n",
    "        for tag in vid_response['items'][0]['snippet']['tags']:\n",
    "            tags.append(tag)\n",
    "    except Exception:\n",
    "        error = 'N/A'\n",
    "        return error\n",
    "    return tags"
   ]
  },
  {
   "cell_type": "markdown",
   "metadata": {},
   "source": [
    "#### I also created some error handling functions in case some of the specified information for each video is not available for public view:"
   ]
  },
  {
   "cell_type": "code",
   "execution_count": 81,
   "metadata": {},
   "outputs": [],
   "source": [
    "def get_comment_count(vid_reponse):\n",
    "    try:\n",
    "        comments = vid_response['items'][0]['statistics']['commentCount']\n",
    "    except Exception:\n",
    "        error = 'Comments disabled/turned off.'\n",
    "        return error\n",
    "    return comments"
   ]
  },
  {
   "cell_type": "code",
   "execution_count": 82,
   "metadata": {},
   "outputs": [],
   "source": [
    "def get_video_desc(vid_reponse):\n",
    "    try:\n",
    "        description = response ['items'][0]['snippet']['localized']['description'].replace('\\n', '')\n",
    "    except Exception:\n",
    "        error = 'N/A'\n",
    "        return error\n",
    "    return description"
   ]
  },
  {
   "cell_type": "code",
   "execution_count": 83,
   "metadata": {},
   "outputs": [],
   "source": [
    "def get_like_count(vid_reponse):\n",
    "    try:\n",
    "        likes = response['items'][0]['statistics']['likeCount']\n",
    "    except Exception:\n",
    "        error = 'Like count hidden.'\n",
    "        return error\n",
    "    return likes"
   ]
  },
  {
   "cell_type": "code",
   "execution_count": 84,
   "metadata": {},
   "outputs": [],
   "source": [
    "def get_dislike_count(vid_reponse):\n",
    "    try:\n",
    "        dislikes = response['items'][0]['statistics']['dislikeCount']\n",
    "    except Exception:\n",
    "        error = 'Dislike count hidden.'\n",
    "        return error\n",
    "    return dislikes"
   ]
  },
  {
   "cell_type": "markdown",
   "metadata": {},
   "source": [
    "### First we have to build the service object using the build() function in order to use the YouTube service.\n",
    "\n",
    "To read in depth information please refer to the **google-api-python-client** documentation: https://bit.ly/2zPOrrg"
   ]
  },
  {
   "cell_type": "code",
   "execution_count": 28,
   "metadata": {},
   "outputs": [],
   "source": [
    "youtube_service_example = build('youtube', 'v3', developerKey=API_KEY)"
   ]
  },
  {
   "cell_type": "markdown",
   "metadata": {},
   "source": [
    "The videos instance method returns the resource that we need for this case. We will also pass in both the **statistics** and **snippet** parameters into the **part** argument within the **list** method to specify the information we want in our response. \\\n",
    "**statistics** and **snippet** give us different responses that we'll need:\n",
    "#### 'statistics' parameter example:"
   ]
  },
  {
   "cell_type": "code",
   "execution_count": 23,
   "metadata": {},
   "outputs": [
    {
     "data": {
      "text/plain": [
       "{'kind': 'youtube#videoListResponse',\n",
       " 'etag': 'YA6bQNroKFs6oh3VdXSOwKhLOAM',\n",
       " 'items': [{'kind': 'youtube#video',\n",
       "   'etag': 'GGoWXR1ApqRBIoOLWhfu8EwuqbU',\n",
       "   'id': 'w3jLJU7DT5E',\n",
       "   'statistics': {'viewCount': '869773',\n",
       "    'likeCount': '15773',\n",
       "    'dislikeCount': '327',\n",
       "    'favoriteCount': '0',\n",
       "    'commentCount': '532'}}],\n",
       " 'pageInfo': {'totalResults': 1, 'resultsPerPage': 1}}"
      ]
     },
     "execution_count": 23,
     "metadata": {},
     "output_type": "execute_result"
    }
   ],
   "source": [
    "git_vid_id = 'w3jLJU7DT5E'\n",
    "stats_response = youtube_service_example.videos().list(id = git_vid_id,\n",
    "                                 part='statistics').execute()\n",
    "stats_response"
   ]
  },
  {
   "cell_type": "markdown",
   "metadata": {},
   "source": [
    "#### 'snippet' parameter example:"
   ]
  },
  {
   "cell_type": "code",
   "execution_count": 24,
   "metadata": {},
   "outputs": [
    {
     "data": {
      "text/plain": [
       "{'kind': 'youtube#videoListResponse',\n",
       " 'etag': 'yJYDsbcHwo-CBYSDBGryzG9lTrg',\n",
       " 'items': [{'kind': 'youtube#video',\n",
       "   'etag': 'iU6_F1ZCYhkqWhUww9IfEj601WU',\n",
       "   'id': 'w3jLJU7DT5E',\n",
       "   'snippet': {'publishedAt': '2016-12-19T19:47:35Z',\n",
       "    'channelId': 'UC7c3Kb6jYCRj4JOHHZTxKsQ',\n",
       "    'title': 'What is GitHub?',\n",
       "    'description': \"Ever wondered how GitHub works? Let's see how Eddie and his team use GitHub.\\n\\nAs always, feel free to leave us a comment below and don't forget to subscribe: http://bit.ly/subgithub\\n\\nThanks!\\n\\nConnect with us.\\nFacebook: http://fb.com/github\\nTwitter: http://twitter.com/github\\nGoogle+: http://google.com/+github\\nLinkedIn: http://linkedin.com/company/github\\n\\nAbout GitHub\\nGitHub is the best place to share code with friends, co-workers, classmates, and complete strangers. Millions of people use GitHub to build amazing things together. For more info, go to http://github.com\",\n",
       "    'thumbnails': {'default': {'url': 'https://i.ytimg.com/vi/w3jLJU7DT5E/default.jpg',\n",
       "      'width': 120,\n",
       "      'height': 90},\n",
       "     'medium': {'url': 'https://i.ytimg.com/vi/w3jLJU7DT5E/mqdefault.jpg',\n",
       "      'width': 320,\n",
       "      'height': 180},\n",
       "     'high': {'url': 'https://i.ytimg.com/vi/w3jLJU7DT5E/hqdefault.jpg',\n",
       "      'width': 480,\n",
       "      'height': 360},\n",
       "     'standard': {'url': 'https://i.ytimg.com/vi/w3jLJU7DT5E/sddefault.jpg',\n",
       "      'width': 640,\n",
       "      'height': 480},\n",
       "     'maxres': {'url': 'https://i.ytimg.com/vi/w3jLJU7DT5E/maxresdefault.jpg',\n",
       "      'width': 1280,\n",
       "      'height': 720}},\n",
       "    'channelTitle': 'GitHub',\n",
       "    'tags': ['git',\n",
       "     'github',\n",
       "     'github training',\n",
       "     'github foundations',\n",
       "     'basics',\n",
       "     'collaboration',\n",
       "     'git basics',\n",
       "     'VCS',\n",
       "     'programming',\n",
       "     'version control',\n",
       "     'open source',\n",
       "     'software development',\n",
       "     'mercurial',\n",
       "     'bazaar',\n",
       "     'perforce',\n",
       "     'subversion',\n",
       "     'CVS',\n",
       "     'octocat'],\n",
       "    'categoryId': '28',\n",
       "    'liveBroadcastContent': 'none',\n",
       "    'localized': {'title': 'What is GitHub?',\n",
       "     'description': \"Ever wondered how GitHub works? Let's see how Eddie and his team use GitHub.\\n\\nAs always, feel free to leave us a comment below and don't forget to subscribe: http://bit.ly/subgithub\\n\\nThanks!\\n\\nConnect with us.\\nFacebook: http://fb.com/github\\nTwitter: http://twitter.com/github\\nGoogle+: http://google.com/+github\\nLinkedIn: http://linkedin.com/company/github\\n\\nAbout GitHub\\nGitHub is the best place to share code with friends, co-workers, classmates, and complete strangers. Millions of people use GitHub to build amazing things together. For more info, go to http://github.com\"},\n",
       "    'defaultAudioLanguage': 'en'}}],\n",
       " 'pageInfo': {'totalResults': 1, 'resultsPerPage': 1}}"
      ]
     },
     "execution_count": 24,
     "metadata": {},
     "output_type": "execute_result"
    }
   ],
   "source": [
    "snippet_response = youtube_service_example.videos().list(id = git_vid_id,\n",
    "                                 part='snippet').execute()\n",
    "snippet_response"
   ]
  },
  {
   "cell_type": "code",
   "execution_count": 42,
   "metadata": {},
   "outputs": [],
   "source": [
    "# For building the service object:\n",
    "API_SERVICE_NAME = 'youtube'\n",
    "API_VERSION = 'v3'\n",
    "\n",
    "# For API key stored as an environmentbal variable\n",
    "import os\n",
    "#For Timer\n",
    "import time"
   ]
  },
  {
   "cell_type": "markdown",
   "metadata": {},
   "source": [
    "# Our Final Code:\n",
    "\n",
    "The information we want is retrieved and then added into a list. I added some timers and print statements to see how long it takes to make a service call for each video and how long it takes to scrape all of the desired videos.\\\n",
    "We'll only return the time it took to retrieve the first 20 videos or else this whole notebook will be full of retrieve statuses."
   ]
  },
  {
   "cell_type": "code",
   "execution_count": 85,
   "metadata": {},
   "outputs": [
    {
     "name": "stdout",
     "output_type": "stream",
     "text": [
      "Got YouTube Video #1: \"Closing remarks - GitHub Satellite 2020\" in 0.2321 seconds\n",
      "Got YouTube Video #2: \"Finding security vulnerabilities in JavaScript with CodeQL - GitHub Satellite 2020\" in 0.1329 seconds\n",
      "Got YouTube Video #3: \"Finding security vulnerabilities in Java with CodeQL - GitHub Satellite 2020\" in 0.1312 seconds\n",
      "Got YouTube Video #4: \"Continuous delivery with GitHub Actions - GitHub Satellite 2020\" in 0.1232 seconds\n",
      "Got YouTube Video #5: \"Continuous integration with GitHub Actions - GitHub Satellite 2020\" in 0.1274 seconds\n",
      "Got YouTube Video #6: \"Building GitHub integrations with webhooks and REST- GitHub Satellite 2020\" in 0.1085 seconds\n",
      "Got YouTube Video #7: \"Building automations with GitHub Apps and GraphQL - GitHub Satellite 2020\" in 0.1298 seconds\n",
      "Got YouTube Video #8: \"ART MACHINES: fostering digital creativity through live coding and ML - GitHub Satellite 2020\" in 0.1256 seconds\n",
      "Got YouTube Video #9: \"How to get from idea to contribution in minutes - GitHub Satellite 2020\" in 0.1277 seconds\n",
      "Got YouTube Video #10: \"Algorithmic Positivity Symphony - GitHub Satellite 2020\" in 0.1311 seconds\n",
      "Got YouTube Video #11: \"The Weird Algorithm - GitHub Satellite 2020\" in 0.152 seconds\n",
      "Got YouTube Video #12: \"Building a Fantasy Game Console - GitHub Satellite 2020\" in 0.1111 seconds\n",
      "Got YouTube Video #13: \"Creative Coding in p5.js - GitHub Satellite 2020\" in 0.1043 seconds\n",
      "Got YouTube Video #14: \"Frontiers of neural arts - GitHub Satellite 2020\" in 0.1164 seconds\n",
      "Got YouTube Video #15: \"Creative Machine Learning with RunwayML - GitHub Satellite 2020\" in 0.1211 seconds\n",
      "Got YouTube Video #16: \"Livecoded Compositions - GitHub Satellite 2020\" in 0.1186 seconds\n",
      "Got YouTube Video #17: \"Coding Augmented Reality Live - GitHub Satellite 2020\" in 0.1055 seconds\n",
      "Got YouTube Video #18: \"Lockdown Algorave - GitHub Satellite 2020\" in 0.1082 seconds\n",
      "Got YouTube Video #19: \"HIPERSONICA - GitHub Satellite 2020\" in 0.1174 seconds\n",
      "Got YouTube Video #20: \"Hiperfragmentación - GitHub Satellite 2020\" in 0.1391 seconds\n",
      "\n",
      "Finished fetching all video data in 578.4307701587677.\n"
     ]
    }
   ],
   "source": [
    "total_time = time.time()\n",
    "\n",
    "youtube = build(API_SERVICE_NAME, API_VERSION, developerKey=API_KEY)\n",
    "\n",
    "results = []\n",
    "count = 1\n",
    "for video_id in vid_ids:\n",
    "    \n",
    "    start = time.time()\n",
    "    \n",
    "    response = youtube.videos().list(id = video_id,\n",
    "                                     part='statistics,snippet').execute()\n",
    "    \n",
    "    title = response['items'][0]['snippet']['title']\n",
    "    channel_name = response['items'][0]['snippet']['channelTitle']\n",
    "    published_date = response['items'][0]['snippet']['publishedAt'][:10]\n",
    "    published_time = response['items'][0]['snippet']['publishedAt'][11:19]\n",
    "    view_count = response['items'][0]['statistics']['viewCount']\n",
    "    dislike_count = get_like_count(response)\n",
    "    like_count = get_like_count(response)\n",
    "    description = get_video_desc(response)\n",
    "    comment_count = get_comment_count(response)\n",
    "    tags = get_video_tags(response)\n",
    "    \n",
    "    data = {\n",
    "        'Video_ID' : video_id,\n",
    "        'Title' : title,\n",
    "        'Channel' : channel_name,\n",
    "        'Publish_Date' : published_date,\n",
    "        'Publish_Time' : published_time,\n",
    "        'Views' : view_count,\n",
    "        'Likes' : like_count,\n",
    "        'Disliked' : dislike_count,\n",
    "        'Comment_Count' : comment_count,\n",
    "        'Video_Tags' : tags,\n",
    "        'Video_Description' : description\n",
    "    }\n",
    "    \n",
    "    results.append(data)\n",
    "    \n",
    "    end = time.time() - start\n",
    "    \n",
    "    if count < 21:\n",
    "        print(f'Got YouTube Video #{count}: \"{title}\" in {round(end,4)} seconds')\n",
    "    else: \n",
    "        pass\n",
    "    \n",
    "    count += 1\n",
    "    time.sleep(1)\n",
    "    \n",
    "total_end_time = time.time() - total_time\n",
    "print()\n",
    "print(f'Finished fetching all video data in {total_end_time}.')"
   ]
  },
  {
   "cell_type": "markdown",
   "metadata": {},
   "source": [
    "#### Lastly we'll want to save and export our results into a csv or xlsx file.\n",
    "\n",
    "I'll be posting the data onto my GitHub: https://github.com/stephanie-y"
   ]
  },
  {
   "cell_type": "code",
   "execution_count": 93,
   "metadata": {},
   "outputs": [
    {
     "data": {
      "text/html": [
       "<div>\n",
       "<style scoped>\n",
       "    .dataframe tbody tr th:only-of-type {\n",
       "        vertical-align: middle;\n",
       "    }\n",
       "\n",
       "    .dataframe tbody tr th {\n",
       "        vertical-align: top;\n",
       "    }\n",
       "\n",
       "    .dataframe thead th {\n",
       "        text-align: right;\n",
       "    }\n",
       "</style>\n",
       "<table border=\"1\" class=\"dataframe\">\n",
       "  <thead>\n",
       "    <tr style=\"text-align: right;\">\n",
       "      <th></th>\n",
       "      <th>Video_ID</th>\n",
       "      <th>Title</th>\n",
       "      <th>Channel</th>\n",
       "      <th>Publish_Date</th>\n",
       "      <th>Publish_Time</th>\n",
       "      <th>Views</th>\n",
       "      <th>Likes</th>\n",
       "      <th>Disliked</th>\n",
       "      <th>Comment_Count</th>\n",
       "      <th>Video_Tags</th>\n",
       "      <th>Video_Description</th>\n",
       "    </tr>\n",
       "  </thead>\n",
       "  <tbody>\n",
       "    <tr>\n",
       "      <th>0</th>\n",
       "      <td>NuonD5G28L8</td>\n",
       "      <td>Closing remarks - GitHub Satellite 2020</td>\n",
       "      <td>GitHub</td>\n",
       "      <td>2020-05-08</td>\n",
       "      <td>17:46:48</td>\n",
       "      <td>2349</td>\n",
       "      <td>42</td>\n",
       "      <td>42</td>\n",
       "      <td>Comments disabled/turned off.</td>\n",
       "      <td>[git, github, github universe, github satellit...</td>\n",
       "      <td>Presented by Erica Brescia, COO, GitHubGitHub ...</td>\n",
       "    </tr>\n",
       "    <tr>\n",
       "      <th>1</th>\n",
       "      <td>pYzfGaLTqC0</td>\n",
       "      <td>Finding security vulnerabilities in JavaScript...</td>\n",
       "      <td>GitHub</td>\n",
       "      <td>2020-05-08</td>\n",
       "      <td>06:00:18</td>\n",
       "      <td>1629</td>\n",
       "      <td>50</td>\n",
       "      <td>50</td>\n",
       "      <td>Comments disabled/turned off.</td>\n",
       "      <td>[git, github, github universe, github satellit...</td>\n",
       "      <td>CodeQL is GitHub's expressive language and eng...</td>\n",
       "    </tr>\n",
       "    <tr>\n",
       "      <th>2</th>\n",
       "      <td>nvCd0Ee4FgE</td>\n",
       "      <td>Finding security vulnerabilities in Java with ...</td>\n",
       "      <td>GitHub</td>\n",
       "      <td>2020-05-08</td>\n",
       "      <td>06:00:18</td>\n",
       "      <td>1083</td>\n",
       "      <td>30</td>\n",
       "      <td>30</td>\n",
       "      <td>Comments disabled/turned off.</td>\n",
       "      <td>[git, github, github universe, github satellit...</td>\n",
       "      <td>CodeQL is GitHub's expressive language and eng...</td>\n",
       "    </tr>\n",
       "    <tr>\n",
       "      <th>3</th>\n",
       "      <td>PYsZeFTdJ50</td>\n",
       "      <td>Continuous delivery with GitHub Actions - GitH...</td>\n",
       "      <td>GitHub</td>\n",
       "      <td>2020-05-08</td>\n",
       "      <td>06:00:17</td>\n",
       "      <td>437</td>\n",
       "      <td>8</td>\n",
       "      <td>8</td>\n",
       "      <td>Comments disabled/turned off.</td>\n",
       "      <td>[git, github, github universe, github satellit...</td>\n",
       "      <td>GitHub Actions gives us the power to use our r...</td>\n",
       "    </tr>\n",
       "    <tr>\n",
       "      <th>4</th>\n",
       "      <td>cyh8DU2QPzg</td>\n",
       "      <td>Continuous integration with GitHub Actions - G...</td>\n",
       "      <td>GitHub</td>\n",
       "      <td>2020-05-08</td>\n",
       "      <td>06:00:18</td>\n",
       "      <td>1142</td>\n",
       "      <td>23</td>\n",
       "      <td>23</td>\n",
       "      <td>Comments disabled/turned off.</td>\n",
       "      <td>[git, github, github universe, github satellit...</td>\n",
       "      <td>\"GitHub Actions gives teams world-class CI cap...</td>\n",
       "    </tr>\n",
       "    <tr>\n",
       "      <th>5</th>\n",
       "      <td>wcxOJq9YemE</td>\n",
       "      <td>Building GitHub integrations with webhooks and...</td>\n",
       "      <td>GitHub</td>\n",
       "      <td>2020-05-08</td>\n",
       "      <td>06:00:29</td>\n",
       "      <td>439</td>\n",
       "      <td>15</td>\n",
       "      <td>15</td>\n",
       "      <td>Comments disabled/turned off.</td>\n",
       "      <td>[git, github, github universe, github satellit...</td>\n",
       "      <td>Webhooks are valuable tools for powering real-...</td>\n",
       "    </tr>\n",
       "    <tr>\n",
       "      <th>6</th>\n",
       "      <td>l3g41dGObJ4</td>\n",
       "      <td>Building automations with GitHub Apps and Grap...</td>\n",
       "      <td>GitHub</td>\n",
       "      <td>2020-05-08</td>\n",
       "      <td>06:00:18</td>\n",
       "      <td>763</td>\n",
       "      <td>13</td>\n",
       "      <td>13</td>\n",
       "      <td>Comments disabled/turned off.</td>\n",
       "      <td>[git, github, github universe, github satellit...</td>\n",
       "      <td>Have you ever wondered how to make cool robots...</td>\n",
       "    </tr>\n",
       "    <tr>\n",
       "      <th>7</th>\n",
       "      <td>ECdxifljjE4</td>\n",
       "      <td>ART MACHINES: fostering digital creativity thr...</td>\n",
       "      <td>GitHub</td>\n",
       "      <td>2020-05-08</td>\n",
       "      <td>06:00:18</td>\n",
       "      <td>341</td>\n",
       "      <td>15</td>\n",
       "      <td>15</td>\n",
       "      <td>Comments disabled/turned off.</td>\n",
       "      <td>N/A</td>\n",
       "      <td>Creative Coders use machines to create aesthet...</td>\n",
       "    </tr>\n",
       "    <tr>\n",
       "      <th>8</th>\n",
       "      <td>dy2eYaNxaQc</td>\n",
       "      <td>How to get from idea to contribution in minute...</td>\n",
       "      <td>GitHub</td>\n",
       "      <td>2020-05-07</td>\n",
       "      <td>22:27:40</td>\n",
       "      <td>1652</td>\n",
       "      <td>57</td>\n",
       "      <td>57</td>\n",
       "      <td>Comments disabled/turned off.</td>\n",
       "      <td>[git, github, github universe, github satellit...</td>\n",
       "      <td>Presented by Sasha Rosenbaum, Product Manager,...</td>\n",
       "    </tr>\n",
       "    <tr>\n",
       "      <th>9</th>\n",
       "      <td>U8NpT_myO9A</td>\n",
       "      <td>Algorithmic Positivity Symphony - GitHub Satel...</td>\n",
       "      <td>GitHub</td>\n",
       "      <td>2020-05-08</td>\n",
       "      <td>06:00:34</td>\n",
       "      <td>826</td>\n",
       "      <td>13</td>\n",
       "      <td>13</td>\n",
       "      <td>Comments disabled/turned off.</td>\n",
       "      <td>[git, github]</td>\n",
       "      <td>During the time of lockdown and isolation, Myn...</td>\n",
       "    </tr>\n",
       "  </tbody>\n",
       "</table>\n",
       "</div>"
      ],
      "text/plain": [
       "      Video_ID                                              Title Channel  \\\n",
       "0  NuonD5G28L8            Closing remarks - GitHub Satellite 2020  GitHub   \n",
       "1  pYzfGaLTqC0  Finding security vulnerabilities in JavaScript...  GitHub   \n",
       "2  nvCd0Ee4FgE  Finding security vulnerabilities in Java with ...  GitHub   \n",
       "3  PYsZeFTdJ50  Continuous delivery with GitHub Actions - GitH...  GitHub   \n",
       "4  cyh8DU2QPzg  Continuous integration with GitHub Actions - G...  GitHub   \n",
       "5  wcxOJq9YemE  Building GitHub integrations with webhooks and...  GitHub   \n",
       "6  l3g41dGObJ4  Building automations with GitHub Apps and Grap...  GitHub   \n",
       "7  ECdxifljjE4  ART MACHINES: fostering digital creativity thr...  GitHub   \n",
       "8  dy2eYaNxaQc  How to get from idea to contribution in minute...  GitHub   \n",
       "9  U8NpT_myO9A  Algorithmic Positivity Symphony - GitHub Satel...  GitHub   \n",
       "\n",
       "  Publish_Date Publish_Time Views Likes Disliked  \\\n",
       "0   2020-05-08     17:46:48  2349    42       42   \n",
       "1   2020-05-08     06:00:18  1629    50       50   \n",
       "2   2020-05-08     06:00:18  1083    30       30   \n",
       "3   2020-05-08     06:00:17   437     8        8   \n",
       "4   2020-05-08     06:00:18  1142    23       23   \n",
       "5   2020-05-08     06:00:29   439    15       15   \n",
       "6   2020-05-08     06:00:18   763    13       13   \n",
       "7   2020-05-08     06:00:18   341    15       15   \n",
       "8   2020-05-07     22:27:40  1652    57       57   \n",
       "9   2020-05-08     06:00:34   826    13       13   \n",
       "\n",
       "                   Comment_Count  \\\n",
       "0  Comments disabled/turned off.   \n",
       "1  Comments disabled/turned off.   \n",
       "2  Comments disabled/turned off.   \n",
       "3  Comments disabled/turned off.   \n",
       "4  Comments disabled/turned off.   \n",
       "5  Comments disabled/turned off.   \n",
       "6  Comments disabled/turned off.   \n",
       "7  Comments disabled/turned off.   \n",
       "8  Comments disabled/turned off.   \n",
       "9  Comments disabled/turned off.   \n",
       "\n",
       "                                          Video_Tags  \\\n",
       "0  [git, github, github universe, github satellit...   \n",
       "1  [git, github, github universe, github satellit...   \n",
       "2  [git, github, github universe, github satellit...   \n",
       "3  [git, github, github universe, github satellit...   \n",
       "4  [git, github, github universe, github satellit...   \n",
       "5  [git, github, github universe, github satellit...   \n",
       "6  [git, github, github universe, github satellit...   \n",
       "7                                                N/A   \n",
       "8  [git, github, github universe, github satellit...   \n",
       "9                                      [git, github]   \n",
       "\n",
       "                                   Video_Description  \n",
       "0  Presented by Erica Brescia, COO, GitHubGitHub ...  \n",
       "1  CodeQL is GitHub's expressive language and eng...  \n",
       "2  CodeQL is GitHub's expressive language and eng...  \n",
       "3  GitHub Actions gives us the power to use our r...  \n",
       "4  \"GitHub Actions gives teams world-class CI cap...  \n",
       "5  Webhooks are valuable tools for powering real-...  \n",
       "6  Have you ever wondered how to make cool robots...  \n",
       "7  Creative Coders use machines to create aesthet...  \n",
       "8  Presented by Sasha Rosenbaum, Product Manager,...  \n",
       "9  During the time of lockdown and isolation, Myn...  "
      ]
     },
     "execution_count": 93,
     "metadata": {},
     "output_type": "execute_result"
    }
   ],
   "source": [
    "df = pd.DataFrame(results)\n",
    "df.head(10)"
   ]
  },
  {
   "cell_type": "code",
   "execution_count": 94,
   "metadata": {},
   "outputs": [],
   "source": [
    "df.to_csv('git_video_info.csv', index=False, header=True)"
   ]
  }
 ],
 "metadata": {
  "kernelspec": {
   "display_name": "comment-env",
   "language": "python",
   "name": "comment-env"
  },
  "language_info": {
   "codemirror_mode": {
    "name": "ipython",
    "version": 3
   },
   "file_extension": ".py",
   "mimetype": "text/x-python",
   "name": "python",
   "nbconvert_exporter": "python",
   "pygments_lexer": "ipython3",
   "version": "3.8.2"
  }
 },
 "nbformat": 4,
 "nbformat_minor": 4
}
